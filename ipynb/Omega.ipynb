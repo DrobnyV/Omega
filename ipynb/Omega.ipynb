{
  "nbformat": 4,
  "nbformat_minor": 0,
  "metadata": {
    "colab": {
      "provenance": []
    },
    "kernelspec": {
      "name": "python3",
      "display_name": "Python 3"
    },
    "language_info": {
      "name": "python"
    }
  },
  "cells": [
    {
      "cell_type": "markdown",
      "source": [
        "#Načtení knihoven a nastavení základních parametrů pro fbref.com\n",
        "\n",
        "Importujeme potřebné knihovny a nastavíme základní parametry pro stahování dat z fbref.com, včetně lig, sezón a sloupců.\n",
        "\n"
      ],
      "metadata": {
        "id": "Tr53Q2dl1aSq"
      }
    },
    {
      "cell_type": "code",
      "execution_count": null,
      "metadata": {
        "id": "urHuO5-H1QU8"
      },
      "outputs": [],
      "source": [
        "import pandas as pd\n",
        "import time\n",
        "\n",
        "pd.set_option('display.max_rows', None)\n",
        "pd.set_option('display.max_columns', None)\n",
        "\n",
        "leagues = {\n",
        "    \"Premier League\": 9,\n",
        "    \"Bundesliga\": 20,\n",
        "    \"Serie A\": 11,\n",
        "    \"La Liga\": 12,\n",
        "    \"Ligue 1\": 13\n",
        "}\n",
        "\n",
        "seasons = [\"2022-2023\", \"2023-2024\", \"2024-2025\"]\n",
        "\n",
        "columns = ['Squad', 'W', 'D', 'L', 'Pts/MP', 'GD', 'xGD']\n",
        "\n",
        "all_team_stats = []"
      ]
    },
    {
      "cell_type": "markdown",
      "source": [
        "# Stahování statistik týmů z fbref.com\n",
        "Pro každou ligu a sezónu stahujeme statistiky týmů z fbref.com a ukládáme je do seznamu DataFrameů.\n",
        "\n"
      ],
      "metadata": {
        "id": "wxCpidDK1m34"
      }
    },
    {
      "cell_type": "code",
      "source": [
        "for league_name, comp_id in leagues.items():\n",
        "    for season in seasons:\n",
        "        url = f\"https://fbref.com/en/comps/{comp_id}/{season}/{season}-{league_name.replace(' ', '-')}-Stats\"\n",
        "        table_id = f\"results{season}{comp_id}1_overall\"\n",
        "\n",
        "        print(f\"Stahuji {league_name} pro {season} z {url} (Table ID: {table_id})...\")\n",
        "        try:\n",
        "            df = pd.read_html(url, attrs={\"id\": table_id})[0]\n",
        "            team_stats = df[columns].copy()\n",
        "            team_stats['Season'] = season\n",
        "            team_stats['League'] = league_name\n",
        "            all_team_stats.append(team_stats)\n",
        "            print(f\"Staženo {len(team_stats)} týmů pro {league_name} {season}\")\n",
        "        except Exception as e:\n",
        "            print(f\"Chyba při stahování {league_name} {season}: {e}\")\n",
        "        time.sleep(3)"
      ],
      "metadata": {
        "id": "MFUIOMlC1pV5"
      },
      "execution_count": null,
      "outputs": []
    },
    {
      "cell_type": "markdown",
      "source": [
        "# Kombinace a uložení statistik týmů\n",
        "Kombinujeme všechny DataFrame do jednoho a ukládáme výsledky do CSV souboru.\n",
        "\n"
      ],
      "metadata": {
        "id": "Sd47urHH1y6F"
      }
    },
    {
      "cell_type": "code",
      "source": [
        "combined_team_stats = pd.concat(all_team_stats, ignore_index=True)\n",
        "combined_team_stats.to_csv('all_leagues_2022_2025.csv', index=False)\n",
        "print(\"\\nKombinované statistiky pro všechny ligy (2022-2023 až 2024-2025):\")\n",
        "print(combined_team_stats)\n",
        "print(f\"\\nData uložena do 'all_leagues_2022_2025.csv' s {len(combined_team_stats)} řádky.\")"
      ],
      "metadata": {
        "id": "Wp5WbNNh113s"
      },
      "execution_count": null,
      "outputs": []
    },
    {
      "cell_type": "markdown",
      "source": [
        "# Načtení knihoven a nastavení parametrů pro API football-data.org\n",
        "Importujeme knihovny a nastavujeme parametry pro stahování zápasů z football-data.org pomocí API.\n",
        "\n"
      ],
      "metadata": {
        "id": "43bnqLEL1_sM"
      }
    },
    {
      "cell_type": "code",
      "source": [
        "import requests\n",
        "import csv\n",
        "import time\n",
        "\n",
        "API_KEY = \"43746d6bdd3b43de8fc5f083e002bb5f\"\n",
        "HEADERS = {\"X-Auth-Token\": API_KEY}\n",
        "BASE_URL = \"https://api.football-data.org/v4\"\n",
        "\n",
        "LEAGUES = {\n",
        "    \"PL\": \"Premier League\",\n",
        "    \"BL1\": \"Bundesliga\",\n",
        "    \"SA\": \"Serie A\",\n",
        "    \"PD\": \"La Liga\",\n",
        "    \"FL1\": \"Ligue 1\"\n",
        "}\n",
        "\n",
        "SEASONS = [2023, 2024]"
      ],
      "metadata": {
        "id": "6JVm-tIN2Bda"
      },
      "execution_count": null,
      "outputs": []
    },
    {
      "cell_type": "markdown",
      "source": [
        "# Funkce pro stahování a ukládání zápasů\n",
        "Definujeme funkce pro stahování zápasů z API a jejich uložení do CSV souboru.\n",
        "\n"
      ],
      "metadata": {
        "id": "laBNJ2Qv2Ilb"
      }
    },
    {
      "cell_type": "code",
      "source": [
        "def fetch_matches(competition_code, season):\n",
        "    url = f\"{BASE_URL}/competitions/{competition_code}/matches?season={season}&status=FINISHED\"\n",
        "    response = requests.get(url, headers=HEADERS)\n",
        "    if response.status_code == 200:\n",
        "        matches = response.json().get(\"matches\", [])\n",
        "        print(f\"Staženo {len(matches)} zápasů pro {competition_code} {season}\")\n",
        "        return matches\n",
        "    else:\n",
        "        print(f\"Chyba při stahování {competition_code} {season}: {response.status_code}\")\n",
        "        return []\n",
        "\n",
        "def save_to_csv(matches, filename=\"matches_2023_2024.csv\"):\n",
        "    with open(filename, mode=\"w\", newline=\"\", encoding=\"utf-8\") as file:\n",
        "        writer = csv.writer(file)\n",
        "        writer.writerow([\"Date\", \"League\", \"Home Team\", \"Away Team\", \"Result\"])\n",
        "\n",
        "        for match in matches:\n",
        "            date = match[\"utcDate\"]\n",
        "            home_team = match[\"homeTeam\"][\"name\"]\n",
        "            away_team = match[\"awayTeam\"][\"name\"]\n",
        "            winner = match[\"score\"][\"winner\"]\n",
        "            league = match[\"competition\"][\"name\"]\n",
        "            result = {\n",
        "                \"HOME_TEAM\": f\"{home_team} Win\",\n",
        "                \"AWAY_TEAM\": f\"{away_team} Win\",\n",
        "                \"DRAW\": \"Draw\"\n",
        "            }.get(winner, \"Unknown\")\n",
        "\n",
        "            writer.writerow([date, league, home_team, away_team, result])"
      ],
      "metadata": {
        "id": "fo1lZ6lb2LEd"
      },
      "execution_count": null,
      "outputs": []
    },
    {
      "cell_type": "markdown",
      "source": [
        "# Hlavní funkce pro stahování zápasů\n",
        "Spouštíme proces stahování zápasů pro všechny ligy a sezóny a ukládáme je.\n",
        "\n"
      ],
      "metadata": {
        "id": "nv2qJ1SJ2Qo9"
      }
    },
    {
      "cell_type": "code",
      "source": [
        "def main():\n",
        "    all_matches = []\n",
        "    for season in SEASONS:\n",
        "        for code, name in LEAGUES.items():\n",
        "            print(f\"Stahuji {name} pro {season}...\")\n",
        "            matches = fetch_matches(code, season)\n",
        "            all_matches.extend(matches)\n",
        "            time.sleep(6)\n",
        "\n",
        "    save_to_csv(all_matches)\n",
        "    print(f\"Uloženo {len(all_matches)} zápasů do matches_2023_2024.csv\")\n",
        "\n",
        "if __name__ == \"__main__\":\n",
        "    main()"
      ],
      "metadata": {
        "id": "spyUmmHy2TME"
      },
      "execution_count": null,
      "outputs": []
    },
    {
      "cell_type": "markdown",
      "source": [
        "# Načtení a příprava dat pro sloučení\n",
        "Načítáme oba datové soubory a připravujeme je pro sloučení, včetně přidání sezóny k zápasům.\n",
        "\n"
      ],
      "metadata": {
        "id": "DLT2Fi0m2YZm"
      }
    },
    {
      "cell_type": "code",
      "source": [
        "import pandas as pd\n",
        "import re\n",
        "from datetime import datetime\n",
        "\n",
        "matches_df = pd.read_csv('matches_2023_2024.csv')\n",
        "team_stats_df = pd.read_csv('all_leagues_2022_2025.csv')\n",
        "\n",
        "def get_season_from_date(date_str):\n",
        "    date = datetime.strptime(date_str, \"%Y-%m-%dT%H:%M:%SZ\")\n",
        "    year = date.year\n",
        "    month = date.month\n",
        "    if month >= 8:\n",
        "        return f\"{year}-{year + 1}\"\n",
        "    else:\n",
        "        return f\"{year - 1}-{year}\"\n",
        "\n",
        "matches_df['Season'] = matches_df['Date'].apply(get_season_from_date)"
      ],
      "metadata": {
        "id": "Vgqg1G-p2a6L"
      },
      "execution_count": null,
      "outputs": []
    },
    {
      "cell_type": "markdown",
      "source": [
        "# Standardizace názvů týmů\n",
        "Definujeme funkci pro porovnání názvů týmů a standardizujeme je pro sloučení.\n"
      ],
      "metadata": {
        "id": "ZkUrVS0D2gmV"
      }
    },
    {
      "cell_type": "code",
      "source": [
        "def find_team_match(match_team, stats_teams):\n",
        "    if pd.isna(match_team):\n",
        "        return None\n",
        "    match_team_lower = match_team.lower()\n",
        "    for stats_team in stats_teams:\n",
        "        stats_team_lower = stats_team.lower()\n",
        "        if (re.search(re.escape(stats_team_lower), match_team_lower) or\n",
        "                re.search(re.escape(match_team_lower), stats_team_lower)):\n",
        "            return stats_team\n",
        "    return None\n",
        "\n",
        "for league in matches_df['League'].unique():\n",
        "    for season in matches_df['Season'].unique():\n",
        "        match_teams = matches_df[(matches_df['League'] == league) &\n",
        "                                 (matches_df['Season'] == season)][['Home Team', 'Away Team']].stack().unique()\n",
        "        stats_teams = team_stats_df[(team_stats_df['League'] == league) &\n",
        "                                    (team_stats_df['Season'] == season)]['Squad'].unique()\n",
        "\n",
        "        temp_mapping = {}\n",
        "        unmapped = []\n",
        "        for match_team in match_teams:\n",
        "            matched_team = find_team_match(match_team, stats_teams)\n",
        "            if matched_team:\n",
        "                temp_mapping[match_team] = matched_team\n",
        "            else:\n",
        "                unmapped.append(match_team)\n",
        "\n",
        "        mask = (matches_df['League'] == league) & (matches_df['Season'] == season)\n",
        "        matches_df.loc[mask, 'Home Team'] = matches_df.loc[mask, 'Home Team'].map(temp_mapping)\n",
        "        matches_df.loc[mask, 'Away Team'] = matches_df.loc[mask, 'Away Team'].map(temp_mapping)\n",
        "\n",
        "        if unmapped:\n",
        "            print(f\"Nenamapované týmy v {league} {season}: {unmapped}\")"
      ],
      "metadata": {
        "id": "iDQfwv292ndn"
      },
      "execution_count": null,
      "outputs": []
    },
    {
      "cell_type": "markdown",
      "source": [
        "# Sloučení dat a přejmenování sloupců\n",
        "Sloučíme statistiky týmů s daty o zápasech a přejmenujeme sloupce pro přehlednost.\n",
        "\n"
      ],
      "metadata": {
        "id": "AhE-ZSnM2wkK"
      }
    },
    {
      "cell_type": "code",
      "source": [
        "matches_df = matches_df.dropna(subset=['Home Team', 'Away Team'])\n",
        "\n",
        "merged_home = matches_df.merge(\n",
        "    team_stats_df,\n",
        "    how='left',\n",
        "    left_on=['Home Team', 'League', 'Season'],\n",
        "    right_on=['Squad', 'League', 'Season'],\n",
        "    suffixes=('', '_home')\n",
        ").drop(columns=['Squad'])\n",
        "\n",
        "merged_final = merged_home.merge(\n",
        "    team_stats_df,\n",
        "    how='left',\n",
        "    left_on=['Away Team', 'League', 'Season'],\n",
        "    right_on=['Squad', 'League', 'Season'],\n",
        "    suffixes=('_home', '_away')\n",
        ").drop(columns=['Squad'])\n",
        "\n",
        "\n",
        "merged_final = merged_final.rename(columns={\n",
        "    'W_home': 'Home_Wins',\n",
        "    'D_home': 'Home_Draws',\n",
        "    'L_home': 'Home_Losses',\n",
        "    'Pts/MP_home': 'Home_PtsPerMatch',\n",
        "    'GD_home': 'Home_GoalDiff',\n",
        "    'xGD_home': 'Home_xGD',\n",
        "    'W_away': 'Away_Wins',\n",
        "    'D_away': 'Away_Draws',\n",
        "    'L_away': 'Away_Losses',\n",
        "    'Pts/MP_away': 'Away_PtsPerMatch',\n",
        "    'GD_away': 'Away_GoalDiff',\n",
        "    'xGD_away': 'Away_xGD'\n",
        "})\n",
        "\n",
        "\n",
        "final_columns = [\n",
        "    'Date', 'League', 'Season', 'Home Team', 'Away Team', 'Result',\n",
        "    'Home_Wins', 'Home_Draws', 'Home_Losses', 'Home_PtsPerMatch', 'Home_GoalDiff', 'Home_xGD',\n",
        "    'Away_Wins', 'Away_Draws', 'Away_Losses', 'Away_PtsPerMatch', 'Away_GoalDiff', 'Away_xGD'\n",
        "]\n",
        "training_df = merged_final[final_columns]"
      ],
      "metadata": {
        "id": "nPgX31u_2ye_"
      },
      "execution_count": null,
      "outputs": []
    },
    {
      "cell_type": "markdown",
      "source": [
        "# Standardizace výsledků a uložení trénovacích dat\n",
        "Standardizujeme hodnoty výsledků a ukládáme finální trénovací data do CSV.\n",
        "\n"
      ],
      "metadata": {
        "id": "lQS50jPX24OI"
      }
    },
    {
      "cell_type": "code",
      "source": [
        "def standardize_result(row):\n",
        "    result = row['Result']\n",
        "    home_team = row['Home Team']\n",
        "    away_team = row['Away Team']\n",
        "\n",
        "    if result == \"Draw\":\n",
        "        return \"Draw\"\n",
        "    if \"Borussia Mönchengladbach\" in result and home_team == \"Gladbach\":\n",
        "        return \"Home Win\"\n",
        "    if \"Borussia Mönchengladbach\" in result and away_team == \"Gladbach\":\n",
        "        return \"Away Win\"\n",
        "    if home_team in result:\n",
        "        return \"Home Win\"\n",
        "    if away_team in result:\n",
        "        return \"Away Win\"\n",
        "    return result  # Fallback pro ladění\n",
        "\n",
        "training_df['Result'] = training_df.apply(standardize_result, axis=1)\n",
        "\n",
        "unmapped_results = training_df[~training_df['Result'].isin(['Draw', 'Home Win', 'Away Win'])]['Result']\n",
        "if not unmapped_results.empty:\n",
        "    print(\"Nenamapované hodnoty Result nalezeny:\")\n",
        "    print(unmapped_results.unique())\n",
        "\n",
        "training_df Bede.csv('training_data_2023_2024.csv', index=False)\n",
        "print(\"Unikátní hodnoty Result po standardizaci:\")\n",
        "print(training_df['Result'].unique())\n",
        "\n",
        "print(\"Náhled sloučeného datasetu:\")\n",
        "print(training_df.head())\n",
        "print(f\"\\nUloženo {len(training_df)} řádků do 'training_data_2023_2024.csv'\")"
      ],
      "metadata": {
        "id": "JIusjk4c27nv"
      },
      "execution_count": null,
      "outputs": []
    },
    {
      "cell_type": "markdown",
      "source": [
        "# Načtení knihoven a dat pro trénování modelů\n",
        "Importujeme knihovny a načítáme trénovací data pro machine learning.\n",
        "\n"
      ],
      "metadata": {
        "id": "2Rvxtw2B3Dr0"
      }
    },
    {
      "cell_type": "code",
      "source": [
        "import joblib\n",
        "import pandas as pd\n",
        "import numpy as np\n",
        "from sklearn.model_selection import train_test_split\n",
        "from sklearn.linear_model import LogisticRegression\n",
        "from sklearn.ensemble import RandomForestClassifier\n",
        "from sklearn.preprocessing import StandardScaler\n",
        "from sklearn.metrics import accuracy_score, classification_report\n",
        "import tensorflow as tf\n",
        "from tensorflow.keras.models import Sequential\n",
        "from tensorflow.keras.layers import Dense\n",
        "from xgboost import XGBClassifier\n",
        "from sklearn.svm import SVC\n",
        "\n",
        "df = pd.read_csv('training_data_2023_2024.csv')\n",
        "\n",
        "print(\"Unikátní hodnoty Result:\")\n",
        "print(df['Result'].unique())"
      ],
      "metadata": {
        "id": "lhCLSIfE3GCj"
      },
      "execution_count": null,
      "outputs": []
    },
    {
      "cell_type": "markdown",
      "source": [
        "# Příprava dat pro trénování\n",
        "Kódujeme cílovou proměnnou, vybíráme funkce a rozdělujeme data na trénovací a testovací sadu.\n",
        "\n"
      ],
      "metadata": {
        "id": "mHmWM4Dm3LDk"
      }
    },
    {
      "cell_type": "code",
      "source": [
        "result_mapping = {\n",
        "    \"Draw\": 0,\n",
        "    \"Home Win\": 1,\n",
        "    \"Away Win\": 2\n",
        "}\n",
        "df['Result_Label'] = df['Result'].map(result_mapping)\n",
        "\n",
        "print(\"Unikátní hodnoty Result_Label:\")\n",
        "print(df['Result_Label'].unique())\n",
        "\n",
        "if df['Result_Label'].isna().any():\n",
        "    raise ValueError(\"Result_Label obsahuje NaN hodnoty. Zkontrolujte mapování sloupce Result.\")\n",
        "\n",
        "feature_cols = [\n",
        "    'Home_Wins', 'Home_Draws', 'Home_Losses', 'Home_PtsPerMatch', 'Home_GoalDiff', 'Home_xGD',\n",
        "    'Away_Wins', 'Away_Draws', 'Away_Losses', 'Away_PtsPerMatch', 'Away_GoalDiff', 'Away_xGD'\n",
        "]\n",
        "X = df[feature_cols].fillna(0)\n",
        "y = df['Result_Label']\n",
        "\n",
        "X_train, X_test, y_train, y_test = train_test_split(X, y, test_size=0.2, random_state=42)\n",
        "\n",
        "scaler = StandardScaler()\n",
        "X_train_scaled = scaler.fit_transform(X_train)\n",
        "X_test_scaled = scaler.transform(X_test)"
      ],
      "metadata": {
        "id": "Y4_-99zG3ON9"
      },
      "execution_count": null,
      "outputs": []
    },
    {
      "cell_type": "markdown",
      "source": [
        "# Trénování a vyhodnocení modelů\n",
        "Trénujeme a vyhodnocujeme pět různých modelů: Logistickou regresi, Random Forest, Neuronovou síť, XGBoost a SVM.\n",
        "\n"
      ],
      "metadata": {
        "id": "Rpy9RglQ3VSt"
      }
    },
    {
      "cell_type": "code",
      "source": [
        "# Model 1: Logistická regrese\n",
        "print(\"Trénuji Logistickou regresi...\")\n",
        "lr_model = LogisticRegression(max_iter=1000, random_state=42)\n",
        "lr_model.fit(X_train_scaled, y_train)\n",
        "lr_pred = lr_model.predict(X_test_scaled)\n",
        "lr_accuracy = accuracy_score(y_test, lr_pred)\n",
        "print(f\"Přesnost Logistické regrese: {lr_accuracy:.4f}\")\n",
        "print(\"Klasifikační zpráva:\")\n",
        "print(classification_report(y_test, lr_pred, target_names=['Draw', 'Home Win', 'Away Win']))\n",
        "\n",
        "# Model 2: Random Forest Classifier\n",
        "print(\"\\nTrénuji Random Forest Classifier...\")\n",
        "rf_model = RandomForestClassifier(n_estimators=1000, random_state=42)\n",
        "rf_model.fit(X_train, y_train)\n",
        "rf_pred = rf_model.predict(X_test)\n",
        "rf_accuracy = accuracy_score(y_test, rf_pred)\n",
        "print(f\"Přesnost Random Forest: {rf_accuracy:.4f}\")\n",
        "print(\"Klasifikační zpráva:\")\n",
        "print(classification_report(y_test, rf_pred, target_names=['Draw', 'Home Win', 'Away Win']))\n",
        "\n",
        "# Model 3: Neuronová síť\n",
        "print(\"\\nTrénuji Neuronovou síť...\")\n",
        "nn_model = Sequential([\n",
        "    Dense(256, activation='relu', input_shape=(X_train_scaled.shape[1],)),\n",
        "    Dense(128, activation='relu'),\n",
        "    Dense(64, activation='relu'),\n",
        "    Dense(3, activation='softmax')\n",
        "])\n",
        "nn_model.compile(optimizer='adam', loss='sparse_categorical_crossentropy', metrics=['accuracy'])\n",
        "nn_model.fit(X_train_scaled, y_train, epochs=100, batch_size=32, validation_split=0.2, verbose=0)\n",
        "nn_loss, nn_accuracy = nn_model.evaluate(X_test_scaled, y_test, verbose=0)\n",
        "nn_pred = np.argmax(nn_model.predict(X_test_scaled, verbose=0), axis=1)\n",
        "print(f\"Přesnost Neuronové sítě: {nn_accuracy:.4f}\")\n",
        "print(\"Klasifikační zpráva:\")\n",
        "print(classification_report(y_test, nn_pred, target_names=['Draw', 'Home Win', 'Away Win']))\n",
        "\n",
        "# Model 4: XGBoost\n",
        "print(\"\\nTrénuji XGBoost Classifier...\")\n",
        "xgb_model = XGBClassifier(n_estimators=100, max_depth=5, learning_rate=0.1, random_state=42, use_label_encoder=False, eval_metric='mlogloss')\n",
        "xgb_model.fit(X_train, y_train)\n",
        "xgb_pred = xgb_model.predict(X_test)\n",
        "xgb_accuracy = accuracy_score(y_test, xgb_pred)\n",
        "print(f\"Přesnost XGBoost: {xgb_accuracy:.4f}\")\n",
        "print(\"Klasifikační zpráva:\")\n",
        "print(classification_report(y_test, xgb_pred, target_names=['Draw', 'Home Win', 'Away Win']))\n",
        "\n",
        "# Model 5: SVM\n",
        "print(\"\\nTrénuji Support Vector Machine...\")\n",
        "svm_model = SVC(kernel='rbf', C=1.0, probability=True, random_state=42)\n",
        "svm_model.fit(X_train_scaled, y_train)\n",
        "svm_pred = svm_model.predict(X_test_scaled)\n",
        "svm_accuracy = accuracy_score(y_test, svm_pred)\n",
        "print(f\"Přesnost SVM: {svm_accuracy:.4f}\")\n",
        "print(\"Klasifikační zpráva:\")\n",
        "print(classification_report(y_test, svm_pred, target_names=['Draw', 'Home Win', 'Away Win']))"
      ],
      "metadata": {
        "id": "E3ZANwbp3b7g"
      },
      "execution_count": null,
      "outputs": []
    },
    {
      "cell_type": "markdown",
      "source": [
        "# Shrnutí a uložení modelu\n",
        "Shrnutí přesnosti všech modelů a uložení SVM modelu.\n",
        "\n"
      ],
      "metadata": {
        "id": "hM1qoj9I3ijk"
      }
    },
    {
      "cell_type": "code",
      "source": [
        "print(\"\\nPorovnání modelů:\")\n",
        "print(f\"Přesnost Logistické regrese: {lr_accuracy:.4f}\")\n",
        "print(f\"Přesnost Random Forest: {rf_accuracy:.4f}\")\n",
        "print(f\"Přesnost Neuronové sítě: {nn_accuracy:.4f}\")\n",
        "print(f\"Přesnost XGBoost: {xgb_accuracy:.4f}\")\n",
        "print(f\"Přesnost SVM: {svm_accuracy:.4f}\")\n",
        "\n",
        "scaler_filename = 'scaler.pkl'\n",
        "joblib.dump(scaler, scaler_filename)\n",
        "print(f\"Scaler saved to {scaler_filename}\")\n",
        "svm_filename = 'svm_model.pkl'\n",
        "joblib.dump(svm_model, svm_filename)\n",
        "print(f\"SVM model saved to {svm_filename}\")"
      ],
      "metadata": {
        "id": "YF1QPmwV3lI8"
      },
      "execution_count": null,
      "outputs": []
    }
  ]
}